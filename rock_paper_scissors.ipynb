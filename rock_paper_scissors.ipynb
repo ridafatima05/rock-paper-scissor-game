{
  "nbformat": 4,
  "nbformat_minor": 0,
  "metadata": {
    "colab": {
      "provenance": [],
      "authorship_tag": "ABX9TyP8ngDHlIxIqWJbniDqba/N",
      "include_colab_link": true
    },
    "kernelspec": {
      "name": "python3",
      "display_name": "Python 3"
    },
    "language_info": {
      "name": "python"
    }
  },
  "cells": [
    {
      "cell_type": "markdown",
      "metadata": {
        "id": "view-in-github",
        "colab_type": "text"
      },
      "source": [
        "<a href=\"https://colab.research.google.com/github/ridafatima05/rock-paper-scissor-game/blob/main/rock_paper_scissors.ipynb\" target=\"_parent\"><img src=\"https://colab.research.google.com/assets/colab-badge.svg\" alt=\"Open In Colab\"/></a>"
      ]
    },
    {
      "cell_type": "markdown",
      "source": [
        "#**Rock Paper Scissor Game**"
      ],
      "metadata": {
        "id": "fZ0VHPIBIad1"
      }
    },
    {
      "cell_type": "code",
      "source": [
        "import random\n",
        "\n",
        "#Project #4 using python.\n",
        "# Game choices\n",
        "choices = [\"Rock\", \"Paper\", \"Scissor\"]\n",
        "\n",
        "# Player choice\n",
        "player_choice = input(\"Enter your choice from Rock, Paper, or Scissor: \").title()\n",
        "\n",
        "# Computer choice\n",
        "computer_choice = random.choice(choices)\n",
        "\n",
        "# Winner decision\n",
        "if player_choice == computer_choice:\n",
        "    print(f\"Both chose {player_choice}. It's a tie!\")\n",
        "\n",
        "elif player_choice == \"Rock\" and computer_choice == \"Scissor\":\n",
        "    print(f\"Player won! {player_choice} beats {computer_choice}.\")\n",
        "\n",
        "elif player_choice == \"Paper\" and computer_choice == \"Rock\":\n",
        "    print(f\"Player won! {player_choice} beats {computer_choice}.\")\n",
        "\n",
        "elif player_choice == \"Scissor\" and computer_choice == \"Paper\":\n",
        "    print(f\"Player won! {player_choice} beats {computer_choice}.\")\n",
        "\n",
        "else:\n",
        "    print(f\"Computer won! {computer_choice} beats {player_choice}. Better Luck Next Time.\")\n",
        "\n",
        "print(\"\\n Build with love by Rida Fatima\")"
      ],
      "metadata": {
        "colab": {
          "base_uri": "https://localhost:8080/"
        },
        "id": "vg3loD9PIktU",
        "outputId": "2449708d-8c19-48bd-a8e2-3506c162822d"
      },
      "execution_count": 3,
      "outputs": [
        {
          "output_type": "stream",
          "name": "stdout",
          "text": [
            "Enter your choice from Rock, Paper, or Scissor: scissor\n",
            "Computer won! Rock beats Scissor.\n",
            "\n",
            " Build with love by Rida Fatima\n"
          ]
        }
      ]
    }
  ]
}